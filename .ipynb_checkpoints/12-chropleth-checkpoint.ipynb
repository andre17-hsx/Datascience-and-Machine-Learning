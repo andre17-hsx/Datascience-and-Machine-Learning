{
 "cells": [
  {
   "cell_type": "code",
   "execution_count": null,
   "metadata": {},
   "outputs": [],
   "source": [
    "import pandas as pd\n",
    "import numpy as np\n",
    "import geopandas as gpd\n",
    "import folium, fiona, branca"
   ]
  },
  {
   "cell_type": "code",
   "execution_count": null,
   "metadata": {},
   "outputs": [],
   "source": [
    "# Crear un geodataframe que tenga como geometry los poligonos de las parroquias de la ciudad de Guayaquil. \n",
    "# Además, debe tenen una columna Name con el nombre de la parroquia, y debe tener una columna preciomt2 con el\n",
    "# precio por metro cuadrado promedio en el que se venden las casas en cada parroquia.\n",
    "# Asegúrese de eliminar outliers previo a realizar este análisis\n",
    "# Su geodataframe guardelo en la variable gdf y ejecute las siguiente celdas:"
   ]
  },
  {
   "cell_type": "code",
   "execution_count": null,
   "metadata": {},
   "outputs": [],
   "source": [
    "#crea el mapa con un tile service\n",
    "centroid=gdf.geometry.centroid\n",
    "mapbox_api_key = r\"pk.eyJ1Ijoic3RhbWVuIiwiYSI6IlpkZEtuS1EifQ.jiH_c9ShtBwtqH9RdG40mw\"; tileset_ID_str = \"streets-v11\"; tilesize_pixels = \"256\";\n",
    "m=folium.Map(location=[centroid.y.mean(), centroid.x.mean()], zoom_start=12,\n",
    "             tiles = f\"https://api.mapbox.com/styles/v1/mapbox/{tileset_ID_str}/tiles/{tilesize_pixels}/{{z}}/{{x}}/{{y}}@2x?access_token={mapbox_api_key}\",\n",
    "             attr='MAPBOX')"
   ]
  },
  {
   "cell_type": "code",
   "execution_count": null,
   "metadata": {},
   "outputs": [],
   "source": [
    "field = \"preciomt2\"\n",
    "label = \"precio por metro cuadrado\"\n",
    "colormap = branca.colormap.linear.YlOrBr_04.to_step(4).scale(gdf[field].min(),gdf[field].max())\n",
    "colormap.caption = label\n",
    "layer = folium.GeoJson('output.geojson',\n",
    "        name=label,\n",
    "        style_function=lambda x: {\"weight\":2, 'color':'black','fillColor':colormap(x['properties'][field]), 'fillOpacity':1},\n",
    "        highlight_function=lambda x: {'weight':5, 'color':'black'},\n",
    "        smooth_factor=2.0,\n",
    "        tooltip=folium.features.GeoJsonTooltip(fields=['Name',field],\n",
    "                                      aliases=['Name',label], \n",
    "                                      labels=True, \n",
    "                                      sticky=True,\n",
    "                                      localize=True\n",
    "                                     ),\n",
    "        show = True,\n",
    "        overlay = True\n",
    "        )\n",
    "m.add_child(layer)\n",
    "m.add_child(colormap)"
   ]
  },
  {
   "cell_type": "code",
   "execution_count": null,
   "metadata": {},
   "outputs": [],
   "source": [
    "m.save('choropleth.html')"
   ]
  }
 ],
 "metadata": {
  "kernelspec": {
   "display_name": "Python 3 (ipykernel)",
   "language": "python",
   "name": "python3"
  },
  "language_info": {
   "codemirror_mode": {
    "name": "ipython",
    "version": 3
   },
   "file_extension": ".py",
   "mimetype": "text/x-python",
   "name": "python",
   "nbconvert_exporter": "python",
   "pygments_lexer": "ipython3",
   "version": "3.10.9"
  }
 },
 "nbformat": 4,
 "nbformat_minor": 4
}
