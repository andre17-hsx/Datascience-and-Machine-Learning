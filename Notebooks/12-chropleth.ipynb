{
 "cells": [
  {
   "cell_type": "code",
   "execution_count": 4,
   "metadata": {},
   "outputs": [],
   "source": [
    "import pandas as pd\n",
    "import numpy as np\n",
    "import geopandas as gpd\n",
    "import folium, fiona, branca"
   ]
  },
  {
   "cell_type": "code",
   "execution_count": 2,
   "metadata": {},
   "outputs": [],
   "source": [
    "# Crear un geodataframe que tenga como geometry los poligonos de las parroquias de la ciudad de Guayaquil. \n",
    "# Además, debe tenen una columna Name con el nombre de la parroquia, y debe tener una columna preciomt2 con el\n",
    "# precio por metro cuadrado promedio en el que se venden las casas en cada parroquia.\n",
    "# Asegúrese de eliminar outliers previo a realizar este análisis\n",
    "# Su geodataframe guardelo en la variable gdf y ejecute las siguiente celdas:"
   ]
  },
  {
   "cell_type": "code",
   "execution_count": 3,
   "metadata": {},
   "outputs": [
    {
     "ename": "NameError",
     "evalue": "name 'gdf' is not defined",
     "output_type": "error",
     "traceback": [
      "\u001b[1;31m---------------------------------------------------------------------------\u001b[0m",
      "\u001b[1;31mNameError\u001b[0m                                 Traceback (most recent call last)",
      "Cell \u001b[1;32mIn[3], line 2\u001b[0m\n\u001b[0;32m      1\u001b[0m \u001b[38;5;66;03m#crea el mapa con un tile service\u001b[39;00m\n\u001b[1;32m----> 2\u001b[0m centroid\u001b[38;5;241m=\u001b[39m\u001b[43mgdf\u001b[49m\u001b[38;5;241m.\u001b[39mgeometry\u001b[38;5;241m.\u001b[39mcentroid\n\u001b[0;32m      3\u001b[0m mapbox_api_key \u001b[38;5;241m=\u001b[39m \u001b[38;5;124mr\u001b[39m\u001b[38;5;124m\"\u001b[39m\u001b[38;5;124mpk.eyJ1Ijoic3RhbWVuIiwiYSI6IlpkZEtuS1EifQ.jiH_c9ShtBwtqH9RdG40mw\u001b[39m\u001b[38;5;124m\"\u001b[39m; tileset_ID_str \u001b[38;5;241m=\u001b[39m \u001b[38;5;124m\"\u001b[39m\u001b[38;5;124mstreets-v11\u001b[39m\u001b[38;5;124m\"\u001b[39m; tilesize_pixels \u001b[38;5;241m=\u001b[39m \u001b[38;5;124m\"\u001b[39m\u001b[38;5;124m256\u001b[39m\u001b[38;5;124m\"\u001b[39m;\n\u001b[0;32m      4\u001b[0m m\u001b[38;5;241m=\u001b[39mfolium\u001b[38;5;241m.\u001b[39mMap(location\u001b[38;5;241m=\u001b[39m[centroid\u001b[38;5;241m.\u001b[39my\u001b[38;5;241m.\u001b[39mmean(), centroid\u001b[38;5;241m.\u001b[39mx\u001b[38;5;241m.\u001b[39mmean()], zoom_start\u001b[38;5;241m=\u001b[39m\u001b[38;5;241m12\u001b[39m,\n\u001b[0;32m      5\u001b[0m              tiles \u001b[38;5;241m=\u001b[39m \u001b[38;5;124mf\u001b[39m\u001b[38;5;124m\"\u001b[39m\u001b[38;5;124mhttps://api.mapbox.com/styles/v1/mapbox/\u001b[39m\u001b[38;5;132;01m{\u001b[39;00mtileset_ID_str\u001b[38;5;132;01m}\u001b[39;00m\u001b[38;5;124m/tiles/\u001b[39m\u001b[38;5;132;01m{\u001b[39;00mtilesize_pixels\u001b[38;5;132;01m}\u001b[39;00m\u001b[38;5;124m/\u001b[39m\u001b[38;5;130;01m{{\u001b[39;00m\u001b[38;5;124mz\u001b[39m\u001b[38;5;130;01m}}\u001b[39;00m\u001b[38;5;124m/\u001b[39m\u001b[38;5;130;01m{{\u001b[39;00m\u001b[38;5;124mx\u001b[39m\u001b[38;5;130;01m}}\u001b[39;00m\u001b[38;5;124m/\u001b[39m\u001b[38;5;130;01m{{\u001b[39;00m\u001b[38;5;124my\u001b[39m\u001b[38;5;130;01m}}\u001b[39;00m\u001b[38;5;124m@2x?access_token=\u001b[39m\u001b[38;5;132;01m{\u001b[39;00mmapbox_api_key\u001b[38;5;132;01m}\u001b[39;00m\u001b[38;5;124m\"\u001b[39m,\n\u001b[0;32m      6\u001b[0m              attr\u001b[38;5;241m=\u001b[39m\u001b[38;5;124m'\u001b[39m\u001b[38;5;124mMAPBOX\u001b[39m\u001b[38;5;124m'\u001b[39m)\n",
      "\u001b[1;31mNameError\u001b[0m: name 'gdf' is not defined"
     ]
    }
   ],
   "source": [
    "#crea el mapa con un tile service\n",
    "centroid=gdf.geometry.centroid\n",
    "mapbox_api_key = r\"pk.eyJ1Ijoic3RhbWVuIiwiYSI6IlpkZEtuS1EifQ.jiH_c9ShtBwtqH9RdG40mw\"; tileset_ID_str = \"streets-v11\"; tilesize_pixels = \"256\";\n",
    "m=folium.Map(location=[centroid.y.mean(), centroid.x.mean()], zoom_start=12,\n",
    "             tiles = f\"https://api.mapbox.com/styles/v1/mapbox/{tileset_ID_str}/tiles/{tilesize_pixels}/{{z}}/{{x}}/{{y}}@2x?access_token={mapbox_api_key}\",\n",
    "             attr='MAPBOX')"
   ]
  },
  {
   "cell_type": "code",
   "execution_count": null,
   "metadata": {},
   "outputs": [],
   "source": [
    "field = \"preciomt2\"\n",
    "label = \"precio por metro cuadrado\"\n",
    "colormap = branca.colormap.linear.YlOrBr_04.to_step(4).scale(gdf[field].min(),gdf[field].max())\n",
    "colormap.caption = label\n",
    "layer = folium.GeoJson('output.geojson',\n",
    "        name=label,\n",
    "        style_function=lambda x: {\"weight\":2, 'color':'black','fillColor':colormap(x['properties'][field]), 'fillOpacity':1},\n",
    "        highlight_function=lambda x: {'weight':5, 'color':'black'},\n",
    "        smooth_factor=2.0,\n",
    "        tooltip=folium.features.GeoJsonTooltip(fields=['Name',field],\n",
    "                                      aliases=['Name',label], \n",
    "                                      labels=True, \n",
    "                                      sticky=True,\n",
    "                                      localize=True\n",
    "                                     ),\n",
    "        show = True,\n",
    "        overlay = True\n",
    "        )\n",
    "m.add_child(layer)\n",
    "m.add_child(colormap)"
   ]
  },
  {
   "cell_type": "code",
   "execution_count": null,
   "metadata": {},
   "outputs": [],
   "source": [
    "m.save('choropleth.html')"
   ]
  },
  {
   "cell_type": "code",
   "execution_count": null,
   "metadata": {},
   "outputs": [],
   "source": []
  }
 ],
 "metadata": {
  "kernelspec": {
   "display_name": "Python 3 (ipykernel)",
   "language": "python",
   "name": "python3"
  },
  "language_info": {
   "codemirror_mode": {
    "name": "ipython",
    "version": 3
   },
   "file_extension": ".py",
   "mimetype": "text/x-python",
   "name": "python",
   "nbconvert_exporter": "python",
   "pygments_lexer": "ipython3",
   "version": "3.9.16"
  }
 },
 "nbformat": 4,
 "nbformat_minor": 4
}
